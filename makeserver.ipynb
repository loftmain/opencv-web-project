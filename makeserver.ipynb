{
 "cells": [
  {
   "cell_type": "code",
   "execution_count": 9,
   "metadata": {},
   "outputs": [
    {
     "name": "stdout",
     "output_type": "stream",
     "text": [
      "Overwriting server.py\n"
     ]
    }
   ],
   "source": [
    "%%writefile server.py\n",
    "\n",
    "from flask import Flask, request, render_template\n",
    "\n",
    "app = Flask(__name__)\n",
    "\n",
    "@app.route('/')\n",
    "def index():\n",
    "    html = \"\"\"\n",
    "    <h1>안녕하세요<h1>\n",
    "    \"\"\"\n",
    "    return html\n",
    "\n",
    "datas = [45.7, 45, 10, 70.8]\n",
    "\n",
    "@app.route('/signal')\n",
    "def signal():\n",
    "    global datas # global 변수인 것 명시\n",
    "    datas.append( float(request.args.get(\"data\")) )\n",
    "    return str(datas)\n",
    "\n",
    "@app.route('/view')\n",
    "def view():\n",
    "    global datas # global 변수인 것 명시\n",
    "    \n",
    "    labels = [i+1 for i in range(len(datas))]\n",
    "                              \n",
    "    ctx = {\"title\":\"그래프^*^\", \"labels\":labels, \"data\":datas}\n",
    "    return render_template(\"view.html\", ctx=ctx) # 반드시 ctx 딕셔너리로 보내기\n",
    "\n",
    "\n",
    "if __name__== '__main__':\n",
    "    app.run(host='0.0.0.0', debug=True, port=8000)"
   ]
  },
  {
   "cell_type": "markdown",
   "metadata": {},
   "source": [
    "### template / view"
   ]
  },
  {
   "cell_type": "code",
   "execution_count": null,
   "metadata": {},
   "outputs": [],
   "source": [
    "\n",
    "<!DOCTYPE html>\n",
    "<html>\n",
    "<head>\n",
    "<meta charset=\"UTF-8\">\n",
    "<head>\n",
    "<script type=\"text/javascript\" src=\"https://cdnjs.cloudflare.com/ajax/libs/Chart.js/2.8.0/Chart.bundle.min.js\"></script>\n",
    "<script type=\"text/javascript\" src=\"https://cdnjs.cloudflare.com/ajax/libs/Chart.js/2.8.0/Chart.min.js\"></script>\n",
    "</head>\n",
    "\n",
    "<body>\n",
    "\n",
    "<canvas id=\"myChart\" style=\"height:300; width:500\"></canvas>\n",
    "<canvas id=\"myChart2\" style=\"height:300; width:500\"></canvas>\n",
    "\n",
    "\n",
    "</body>\n",
    "<script>\n",
    "\n",
    "<!-- 파라미터 추가 -->\n",
    "function addGraph(id, labels, data) {\n",
    "\n",
    "var ctx = document.getElementById(id);\n",
    "var myChart = new Chart(ctx, {\n",
    "    type: 'line',\n",
    "    data: {\n",
    "        labels: labels,\n",
    "        datasets: [{\n",
    "            label: '그래프 테스트',\n",
    "            data: data,\n",
    "            borderWidth: 1\n",
    "        }]\n",
    "    },\n",
    "    options: {\n",
    "      <!-- 반응형 웹으로 하지 않겠다. -->\n",
    "      responsive : false,\n",
    "    }\n",
    "\n",
    "\n",
    "\n",
    "});\n",
    "\n",
    "}\n",
    "\n",
    "addGraph(\"myChart\", ['A', 'B', 'C', 'D'], [20.7, 100, 565, 32] );\n",
    "addGraph(\"myChart2\", ['가', '나', '다', '라'], [12.7, 10, 65, 32] );\n",
    "\n",
    "\n",
    "</script>\n"
   ]
  },
  {
   "cell_type": "code",
   "execution_count": 11,
   "metadata": {},
   "outputs": [
    {
     "name": "stdout",
     "output_type": "stream",
     "text": [
      "[45.7, 45, 10, 70.8, 7.5, 6.7, 0.5, 3.4, 70.5]\n",
      "[45.7, 45, 10, 70.8, 7.5, 6.7, 0.5, 3.4, 70.5, 60.7]\n",
      "[45.7, 45, 10, 70.8, 7.5, 6.7, 0.5, 3.4, 70.5, 60.7, 20.5]\n",
      "[45.7, 45, 10, 70.8, 7.5, 6.7, 0.5, 3.4, 70.5, 60.7, 20.5, 30.4]\n"
     ]
    }
   ],
   "source": [
    "import requests\n",
    "\n",
    "datas = [70.5, 60.7, 20.5, 30.4]\n",
    "for data in datas:\n",
    "    response = requests.get(\"http://localhost:8000/signal?data=\" + str(data))\n",
    "    # 동기방식으로 작동하기 떄문에 동시에 실행하려면 쓰레드로 별도 돌려야함\n",
    "    \n",
    "    print(response.text)"
   ]
  },
  {
   "cell_type": "code",
   "execution_count": null,
   "metadata": {},
   "outputs": [],
   "source": []
  }
 ],
 "metadata": {
  "kernelspec": {
   "display_name": "Python 3",
   "language": "python",
   "name": "python3"
  },
  "language_info": {
   "codemirror_mode": {
    "name": "ipython",
    "version": 3
   },
   "file_extension": ".py",
   "mimetype": "text/x-python",
   "name": "python",
   "nbconvert_exporter": "python",
   "pygments_lexer": "ipython3",
   "version": "3.7.6"
  }
 },
 "nbformat": 4,
 "nbformat_minor": 4
}
