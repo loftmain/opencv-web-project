{
 "cells": [
  {
   "cell_type": "code",
   "execution_count": 9,
   "metadata": {},
   "outputs": [
    {
     "name": "stdout",
     "output_type": "stream",
     "text": [
      "Overwriting server.py\n"
     ]
    }
   ],
   "source": [
    "%%writefile server.py\n",
    "\n",
    "from flask import Flask, request, render_template\n",
    "\n",
    "app = Flask(__name__)\n",
    "\n",
    "@app.route('/')\n",
    "def index():\n",
    "    html = \"\"\"\n",
    "    <h1>안녕하세요<h1>\n",
    "    \"\"\"\n",
    "    return html\n",
    "\n",
    "datas = [45.7, 45, 10, 70.8]\n",
    "\n",
    "@app.route('/signal')\n",
    "def signal():\n",
    "    global datas # global 변수인 것 명시\n",
    "    datas.append( float(request.args.get(\"data\")) )\n",
    "    return str(datas)\n",
    "\n",
    "@app.route('/view')\n",
    "def view():\n",
    "    global datas # global 변수인 것 명시\n",
    "    \n",
    "    labels = [i+1 for i in range(len(datas))]\n",
    "                              \n",
    "    ctx = {\"title\":\"그래프^*^\", \"labels\":labels, \"data\":datas}\n",
    "    return render_template(\"view.html\", ctx=ctx) # 반드시 ctx 딕셔너리로 보내기\n",
    "\n",
    "\n",
    "if __name__== '__main__':\n",
    "    app.run(host='0.0.0.0', debug=True, port=8000)"
   ]
  },
  {
   "cell_type": "markdown",
   "metadata": {},
   "source": [
    "### template / view"
   ]
  },
  {
   "cell_type": "code",
   "execution_count": null,
   "metadata": {},
   "outputs": [],
   "source": [
    "\n",
    "<!DOCTYPE html>\n",
    "<html>\n",
    "<head>\n",
    "<meta charset=\"UTF-8\">\n",
    "<meta http-equiv=\"refresh\" content=\"10; view\"\n",
    "<head>\n",
    "<script type=\"text/javascript\" src=\"https://cdnjs.cloudflare.com/ajax/libs/Chart.js/2.8.0/Chart.bundle.min.js\"></script>\n",
    "<script type=\"text/javascript\" src=\"https://cdnjs.cloudflare.com/ajax/libs/Chart.js/2.8.0/Chart.min.js\"></script>\n",
    "</head>\n",
    "\n",
    "<body>\n",
    "  <h1> {{ctx.title}} </h1>\n",
    "\n",
    "  <canvas id=\"myChart\" style=\"height:300; width:500\"></canvas>\n",
    "\n",
    "</body>\n",
    "<script>\n",
    "\n",
    "<!-- 파라미터 추가 -->\n",
    "function addGraph(id, labels, data) {\n",
    "\n",
    "var ctx = document.getElementById(id);\n",
    "var myChart = new Chart(ctx, {\n",
    "    type: 'line',\n",
    "    data: {\n",
    "        labels: labels,\n",
    "        datasets: [{\n",
    "            label: '그래프 테스트',\n",
    "            data: data,\n",
    "            borderWidth: 1\n",
    "        }]\n",
    "    },\n",
    "    options: {\n",
    "      <!-- 반응형 웹으로 하지 않겠다. -->\n",
    "      responsive : true,\n",
    "    }\n",
    "\n",
    "\n",
    "\n",
    "});\n",
    "\n",
    "}\n",
    "\n",
    "<!-- 파이썬과 웹이 데이터를 주고받는 방식 -->\n",
    "<!-- addGraph(\"myChart\", [&#39;a&#39;, &#39;B&#39;, &#39;C&#39;], [101, 123, 78.2] ); -->\n",
    "<!-- html 특수문자를 사용했을 때 변환되는 것을 -->\n",
    "addGraph(\"myChart\", {{ctx.labels|safe}}, {{ctx.data|safe}} );\n",
    "//addGraph(\"myChart2\", ['가', '나', '다', '라'], [12.7, 10, 65, 32] );\n",
    "\n",
    "\n",
    "</script>\n"
   ]
  },
  {
   "cell_type": "code",
   "execution_count": 11,
   "metadata": {},
   "outputs": [
    {
     "name": "stdout",
     "output_type": "stream",
     "text": [
      "[45.7, 45, 10, 70.8, 7.5, 6.7, 0.5, 3.4, 70.5]\n",
      "[45.7, 45, 10, 70.8, 7.5, 6.7, 0.5, 3.4, 70.5, 60.7]\n",
      "[45.7, 45, 10, 70.8, 7.5, 6.7, 0.5, 3.4, 70.5, 60.7, 20.5]\n",
      "[45.7, 45, 10, 70.8, 7.5, 6.7, 0.5, 3.4, 70.5, 60.7, 20.5, 30.4]\n"
     ]
    }
   ],
   "source": [
    "import requests\n",
    "\n",
    "datas = [70.5, 60.7, 20.5, 30.4]\n",
    "for data in datas:\n",
    "    response = requests.get(\"http://localhost:8000/signal?data=\" + str(data))\n",
    "    # 동기방식으로 작동하기 떄문에 동시에 실행하려면 쓰레드로 별도 돌려야함\n",
    "    \n",
    "    print(response.text)"
   ]
  },
  {
   "cell_type": "markdown",
   "metadata": {},
   "source": [
    "## 동영상 출력"
   ]
  },
  {
   "cell_type": "code",
   "execution_count": 33,
   "metadata": {},
   "outputs": [
    {
     "name": "stdout",
     "output_type": "stream",
     "text": [
      "Overwriting server.py\n"
     ]
    }
   ],
   "source": [
    "%%writefile server.py\n",
    "\n",
    "import cv2\n",
    "from pyzbar.pyzbar import decode\n",
    "from flask import Flask, request, render_template, make_response\n",
    "app = Flask(__name__)\n",
    "\n",
    "face_classifier = cv2.CascadeClassifier('haarcascade_frontalface_default.xml')\n",
    "eye_classifier = cv2.CascadeClassifier('haarcascade_eye.xml')\n",
    "    \n",
    "@app.route('/')\n",
    "def index():\n",
    "    return  render_template(\"face.html\")\n",
    "\n",
    "@app.route('/upload', methods=[\"post\"])\n",
    "def upload():\n",
    "    f = request.files['file1']   \n",
    "    filename = \"./static/\" + f.filename\n",
    "    f.save(filename)    \n",
    "    \n",
    "    img = cv2.imread(filename)\n",
    "    if img.shape[0] >= 1000 and img.shape[1] >= 1000:\n",
    "        img = cv2.resize(img, dsize=(0, 0), fx=0.25, fy=0.25)    \n",
    "\n",
    "    gray = cv2.cvtColor(img, cv2.COLOR_BGR2GRAY)\n",
    "\n",
    "    faces = face_classifier.detectMultiScale(gray)\n",
    "    \n",
    "    if len(faces) > 0:\n",
    "        for (x1, y1, w1, h1) in faces:\n",
    "            cv2.rectangle(img, (x1, y1), (x1 + w1, y1 + h1), (255, 0, 255), 2)\n",
    "            faceROI = img[y1:y1 + h1, x1:x1 + w1]\n",
    "            eyes = eye_classifier.detectMultiScale(faceROI)\n",
    "            for (x2, y2, w2, h2) in eyes:\n",
    "                    center = (int(x2 + w2 / 2), int(y2 + h2 / 2))\n",
    "                    cv2.circle(img, center, int(w2 / 2), (255, 0, 0), 2, cv2.LINE_AA)\n",
    "\n",
    "        retval, buffer = cv2.imencode('.jpg', img)\n",
    "        response = make_response(buffer.tobytes())\n",
    "        response.headers['Content-Type'] = 'image/jpg'\n",
    "        return response\n",
    "\n",
    "    code = decode(img)    \n",
    "    url  = code[0].data.decode(\"utf-8\")\n",
    "        \n",
    "    return f\"<script> alert('이동합니다.'); window.location.href='{url}';</script>\"\n",
    "\n",
    "    \n",
    "    \n",
    "if __name__ == '__main__':\n",
    "     app.run(host='0.0.0.0', debug=True, port=8000)      "
   ]
  },
  {
   "cell_type": "code",
   "execution_count": 34,
   "metadata": {},
   "outputs": [
    {
     "name": "stdout",
     "output_type": "stream",
     "text": [
      "Overwriting server.py\n"
     ]
    }
   ],
   "source": [
    "%%writefile server.py\n",
    "import cv2\n",
    "import numpy as np\n",
    "from pyzbar.pyzbar import decode\n",
    "import io\n",
    "\n",
    "from flask import Flask, request, render_template, make_response, Response\n",
    "app = Flask(__name__)\n",
    "\n",
    "face_classifier = cv2.CascadeClassifier('haarcascade_frontalface_default.xml')\n",
    "eye_classifier = cv2.CascadeClassifier('haarcascade_eye.xml')\n",
    "vc = cv2.VideoCapture(0)\n",
    "\n",
    "@app.route('/')\n",
    "def index():\n",
    "    return  render_template(\"face.html\")\n",
    "\n",
    "@app.route('/upload', methods=[\"post\"])\n",
    "def upload():\n",
    "    f = request.files['file1']   \n",
    "    filename = \"./static/\" + f.filename\n",
    "    f.save(filename)            \n",
    "    #img = cv2.imdecode(np.fromstring(f.read(), np.uint8), cv2.IMREAD_UNCHANGED)\n",
    "    img = cv2.imread(filename)    \n",
    "    #img = cv2.resize(img, dsize=(0, 0), fx=0.25, fy=0.25)        \n",
    "    \n",
    "    gray = cv2.cvtColor(img, cv2.COLOR_BGR2GRAY)\n",
    "    faces = face_classifier.detectMultiScale(gray)\n",
    "    \n",
    "    if len(faces) > 0 :   \n",
    "        for (x1, y1, w1, h1) in faces:\n",
    "            cv2.rectangle(img, (x1, y1), (x1 + w1, y1 + h1), (255, 0, 255), 2)\n",
    "\n",
    "            faceROI = gray[y1:y1 + h1, x1:x1 + w1]\n",
    "            cv2.imshow('face', faceROI)                \n",
    "\n",
    "            eyes = eye_classifier.detectMultiScale(faceROI)\n",
    "            for (x2, y2, w2, h2) in eyes:\n",
    "                center = (int(x1+ x2 + w2 / 2), int(y1 +y2 + h2 / 2))\n",
    "                cv2.circle(img, center, int(w2 / 2), (255, 0, 0), 2, cv2.LINE_AA)\n",
    "\n",
    "        retval, buffer = cv2.imencode('.jpg', img)  \n",
    "\n",
    "\n",
    "        response = make_response(buffer.tobytes())\n",
    "        response.headers['Content-Type'] = 'image/jpg'\n",
    "\n",
    "        return response    \n",
    "    \n",
    "    code = decode(img)    \n",
    "    url  = code[0].data.decode(\"utf-8\")    \n",
    "    \n",
    "    return f\"<a href={url}>QR코드가기</a>\" \n",
    "    \n",
    "    #return  f\"<script> alert('이동합니다.'); window.location.href='{url}'; </script>\"\n",
    "    \n",
    "    \n",
    "    \n",
    "def gen():\n",
    "    while True:\n",
    "        read_return_code, frame = vc.read()\n",
    "        encode_return_code, image_buffer = cv2.imencode('.jpg', frame)\n",
    "        io_buf = io.BytesIO(image_buffer)\n",
    "        yield (b'--frame\\r\\n'\n",
    "               b'Content-Type: image/jpeg\\r\\n\\r\\n' + io_buf.read() + b'\\r\\n')\n",
    "\n",
    "\n",
    "@app.route('/video_feed')\n",
    "def video_feed():\n",
    "    \"\"\"Video streaming route. Put this in the src attribute of an img tag.\"\"\"\n",
    "    return Response(\n",
    "        gen(),\n",
    "        mimetype='multipart/x-mixed-replace; boundary=frame'\n",
    "    )\n",
    "\n",
    "@app.route('/test')\n",
    "def test():\n",
    "    return  \"<h1>동영상 테스트</h1> <img src=/video_feed width=320 height=240>\"\n",
    "\n",
    "\n",
    "\n",
    "if __name__ == '__main__':\n",
    "     app.run(host='0.0.0.0', debug=True, port=8000)      "
   ]
  },
  {
   "cell_type": "code",
   "execution_count": 39,
   "metadata": {},
   "outputs": [
    {
     "name": "stdout",
     "output_type": "stream",
     "text": [
      "Overwriting server.py\n"
     ]
    }
   ],
   "source": [
    "%%writefile server.py\n",
    "import cv2\n",
    "import numpy as np\n",
    "import io\n",
    "import random\n",
    "\n",
    "from flask import Flask, request, render_template, make_response, Response\n",
    "app = Flask(__name__)\n",
    "\n",
    "vc = cv2.VideoCapture('vtest.avi')\n",
    "\n",
    "hog = cv2.HOGDescriptor()\n",
    "hog.setSVMDetector(cv2.HOGDescriptor_getDefaultPeopleDetector())\n",
    "\n",
    "datas = []\n",
    "\n",
    "def detectHuman(frame) :\n",
    "    detected, _ = hog.detectMultiScale(frame)\n",
    "\n",
    "    for (x, y, w, h) in detected:\n",
    "        c = (random.randint(0, 255),\n",
    "             random.randint(0, 255), \n",
    "             random.randint(0, 255))\n",
    "        cv2.rectangle(frame, (x, y), (x + w, y + h), c, 3)\n",
    "    return detected    \n",
    "\n",
    "@app.route('/')\n",
    "def index():\n",
    "    return  render_template(\"human.html\")\n",
    "\n",
    "def gen():\n",
    "    global vc\n",
    "    global datas\n",
    "    \n",
    "    while True:\n",
    "        read_return_code, frame = vc.read()\n",
    "        \n",
    "        if not read_return_code :\n",
    "            vc = cv2.VideoCapture('vtest.avi')\n",
    "            datas = []\n",
    "            break;\n",
    "        \n",
    "        rect = detectHuman(frame)\n",
    "        \n",
    "        datas.append(len(rect))\n",
    "        print(datas)\n",
    "        \n",
    "        encode_return_code, image_buffer = cv2.imencode('.jpg', frame)\n",
    "        io_buf = io.BytesIO(image_buffer)\n",
    "        yield (b'--frame\\r\\n'\n",
    "               b'Content-Type: image/jpeg\\r\\n\\r\\n' + io_buf.read() + b'\\r\\n')\n",
    "\n",
    "\n",
    "@app.route('/video_feed')\n",
    "def video_feed():\n",
    "    \"\"\"Video streaming route. Put this in the src attribute of an img tag.\"\"\"\n",
    "    return Response(\n",
    "        gen(),\n",
    "        mimetype='multipart/x-mixed-replace; boundary=frame'\n",
    "    )\n",
    "\n",
    "@app.route('/view')\n",
    "def view():\n",
    "    global datas\n",
    "    return str(datas)\n",
    "    \n",
    "if __name__ == '__main__':\n",
    "     app.run(host='0.0.0.0', debug=True, port=8000)      "
   ]
  },
  {
   "cell_type": "code",
   "execution_count": 18,
   "metadata": {},
   "outputs": [],
   "source": [
    "a = [2, 2, 1, 2, 1, 3, 2, 2, 2, 2, 2, 2, 3, 2, 4, 4, 2, 4, 3, 3, 5, 4, 5, 3, 4, 4, 4, 2, 3, 3, 4, 2, 3, 4, 3, 1, 2, 3, 4, 3, 4, 2, 4, 4, 5, 5, 5, 5, 5, 5, 5, 5, 4, 4, 5, 4, 5, 5, 4, 6, 3, 3, 3, 3, 2, 2, 3, 3, 3, 4, 2, 2, 3, 3, 4, 2, 5, 4, 3, 3, 2, 3, 3, 3, 3, 3, 4, 4, 3, 3, 2, 3, 3, 3, 3, 3, 2, 3, 3, 3, 2, 2, 2, 2, 1, 1, 3, 2, 0, 2, 2, 2, 2, 1, 2, 3, 2, 3, 2, 3, 4, 4, 4, 3, 5, 2, 4, 2, 2, 2, 3, 1, 3, 2, 3, 2, 5, 2, 4, 1, 2, 2, 4, 5, 2, 3, 3, 2, 2, 3, 4, 3, 2, 2, 2, 2, 2, 2, 2, 2, 2, 3, 2, 2, 2, 2, 2, 2, 2, 1, 1, 2, 2, 2, 3, 2, 2, 3, 3, 5, 3, 3, 4, 4, 3, 3, 5, 5, 4, 4, 4, 4, 3, 4, 4, 3, 3, 3, 2, 3, 2, 2, 2, 1, 1, 1, 1, 1, 2, 3, 1, 2, 2, 1, 1, 1, 1, 1, 1, 2, 1, 1, 2, 2, 2, 2, 4, 2, 2, 2, 3, 3, 3, 4, 3, 3, 6, 5, 5, 6, 5, 5, 3, 3, 3, 4, 3, 3, 3, 3, 3, 2, 2, 3, 3, 2, 3, 2, 2, 2, 3, 3, 2, 2, 2, 2, 3, 3, 3]"
   ]
  },
  {
   "cell_type": "code",
   "execution_count": 26,
   "metadata": {},
   "outputs": [
    {
     "data": {
      "text/plain": [
       "0"
      ]
     },
     "execution_count": 26,
     "metadata": {},
     "output_type": "execute_result"
    }
   ],
   "source": [
    "a.count([0, 1])"
   ]
  },
  {
   "cell_type": "code",
   "execution_count": 29,
   "metadata": {},
   "outputs": [
    {
     "data": {
      "text/plain": [
       "[1, 24, 93, 84, 40, 24, 3]"
      ]
     },
     "execution_count": 29,
     "metadata": {},
     "output_type": "execute_result"
    }
   ],
   "source": [
    " [a.count(i) for i in list(set(a))]"
   ]
  },
  {
   "cell_type": "code",
   "execution_count": 30,
   "metadata": {},
   "outputs": [
    {
     "name": "stdout",
     "output_type": "stream",
     "text": [
      "[0, 1, 2, 3, 4, 5, 6]\n"
     ]
    }
   ],
   "source": [
    "print(list(set(a)))"
   ]
  },
  {
   "cell_type": "code",
   "execution_count": null,
   "metadata": {},
   "outputs": [],
   "source": []
  }
 ],
 "metadata": {
  "kernelspec": {
   "display_name": "Python 3",
   "language": "python",
   "name": "python3"
  },
  "language_info": {
   "codemirror_mode": {
    "name": "ipython",
    "version": 3
   },
   "file_extension": ".py",
   "mimetype": "text/x-python",
   "name": "python",
   "nbconvert_exporter": "python",
   "pygments_lexer": "ipython3",
   "version": "3.7.6"
  }
 },
 "nbformat": 4,
 "nbformat_minor": 4
}
